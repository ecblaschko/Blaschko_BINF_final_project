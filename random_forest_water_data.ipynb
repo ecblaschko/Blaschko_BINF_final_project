{
 "cells": [
  {
   "cell_type": "code",
   "execution_count": 148,
   "id": "d755fb7e-cd4c-4359-a949-cd8eedde1eb1",
   "metadata": {},
   "outputs": [],
   "source": [
    "import sys\n",
    "import os\n",
    "import numpy as np\n",
    "import matplotlib.pyplot as plt\n",
    "import seaborn as sns\n",
    "import pandas as pd\n",
    "import mglearn\n",
    "import graphviz\n",
    "import time\n",
    "from sklearn.model_selection import train_test_split\n",
    "from sklearn.datasets import load_breast_cancer\n",
    "from sklearn.tree import DecisionTreeClassifier\n",
    "from sklearn.tree import export_graphviz\n",
    "from sklearn.linear_model import LinearRegression\n",
    "from sklearn.tree import DecisionTreeRegressor\n",
    "from sklearn.ensemble import RandomForestClassifier\n",
    "from sklearn.datasets import make_moons\n",
    "from sklearn.ensemble import GradientBoostingClassifier\n",
    "from sklearn.model_selection import GridSearchCV"
   ]
  },
  {
   "cell_type": "code",
   "execution_count": 48,
   "id": "80da8568-718d-4929-939e-c1265e5ff91f",
   "metadata": {},
   "outputs": [],
   "source": [
    "##get to know dataset"
   ]
  },
  {
   "cell_type": "code",
   "execution_count": 106,
   "id": "2e0e69d5-1c7d-45a6-8233-48f6b7b35d8f",
   "metadata": {},
   "outputs": [
    {
     "data": {
      "text/html": [
       "<div>\n",
       "<style scoped>\n",
       "    .dataframe tbody tr th:only-of-type {\n",
       "        vertical-align: middle;\n",
       "    }\n",
       "\n",
       "    .dataframe tbody tr th {\n",
       "        vertical-align: top;\n",
       "    }\n",
       "\n",
       "    .dataframe thead th {\n",
       "        text-align: right;\n",
       "    }\n",
       "</style>\n",
       "<table border=\"1\" class=\"dataframe\">\n",
       "  <thead>\n",
       "    <tr style=\"text-align: right;\">\n",
       "      <th></th>\n",
       "      <th>PId</th>\n",
       "      <th>Village/Farm/Marketno</th>\n",
       "      <th>Studysite</th>\n",
       "      <th>Status</th>\n",
       "      <th>Sampletype</th>\n",
       "      <th>Sample1or2</th>\n",
       "      <th>Season</th>\n",
       "      <th>Uniqueid</th>\n",
       "      <th>TBXcount</th>\n",
       "      <th>StatusTBX</th>\n",
       "      <th>...</th>\n",
       "      <th>NDM1</th>\n",
       "      <th>pH</th>\n",
       "      <th>Conductivity</th>\n",
       "      <th>Temp</th>\n",
       "      <th>GISND</th>\n",
       "      <th>GISNM</th>\n",
       "      <th>GISED</th>\n",
       "      <th>GISEM</th>\n",
       "      <th>GISlat</th>\n",
       "      <th>GISlong</th>\n",
       "    </tr>\n",
       "  </thead>\n",
       "  <tbody>\n",
       "    <tr>\n",
       "      <th>0</th>\n",
       "      <td>TR001</td>\n",
       "      <td>1</td>\n",
       "      <td>Rural household</td>\n",
       "      <td>High exposure</td>\n",
       "      <td>Compound soil</td>\n",
       "      <td>1</td>\n",
       "      <td>Winter</td>\n",
       "      <td>11211TR001</td>\n",
       "      <td>0</td>\n",
       "      <td>Negative</td>\n",
       "      <td>...</td>\n",
       "      <td>0.00</td>\n",
       "      <td>NaN</td>\n",
       "      <td>NaN</td>\n",
       "      <td>NaN</td>\n",
       "      <td>NaN</td>\n",
       "      <td>NaN</td>\n",
       "      <td>NaN</td>\n",
       "      <td>NaN</td>\n",
       "      <td>NaN</td>\n",
       "      <td>NaN</td>\n",
       "    </tr>\n",
       "    <tr>\n",
       "      <th>1</th>\n",
       "      <td>TR001</td>\n",
       "      <td>1</td>\n",
       "      <td>Rural household</td>\n",
       "      <td>High exposure</td>\n",
       "      <td>Drinking water</td>\n",
       "      <td>1</td>\n",
       "      <td>Winter</td>\n",
       "      <td>11311TR001</td>\n",
       "      <td>0</td>\n",
       "      <td>Negative</td>\n",
       "      <td>...</td>\n",
       "      <td>0.00</td>\n",
       "      <td>7.4</td>\n",
       "      <td>173.0</td>\n",
       "      <td>25.4</td>\n",
       "      <td>NaN</td>\n",
       "      <td>NaN</td>\n",
       "      <td>NaN</td>\n",
       "      <td>NaN</td>\n",
       "      <td>NaN</td>\n",
       "      <td>NaN</td>\n",
       "    </tr>\n",
       "    <tr>\n",
       "      <th>2</th>\n",
       "      <td>TR001</td>\n",
       "      <td>1</td>\n",
       "      <td>Rural household</td>\n",
       "      <td>High exposure</td>\n",
       "      <td>Waste water</td>\n",
       "      <td>1</td>\n",
       "      <td>Winter</td>\n",
       "      <td>11411TR001</td>\n",
       "      <td>220000</td>\n",
       "      <td>Positive</td>\n",
       "      <td>...</td>\n",
       "      <td>174999.38</td>\n",
       "      <td>7.7</td>\n",
       "      <td>202.0</td>\n",
       "      <td>22.7</td>\n",
       "      <td>NaN</td>\n",
       "      <td>NaN</td>\n",
       "      <td>NaN</td>\n",
       "      <td>NaN</td>\n",
       "      <td>NaN</td>\n",
       "      <td>NaN</td>\n",
       "    </tr>\n",
       "    <tr>\n",
       "      <th>3</th>\n",
       "      <td>TR001</td>\n",
       "      <td>1</td>\n",
       "      <td>Rural household</td>\n",
       "      <td>High exposure</td>\n",
       "      <td>Downstream river water</td>\n",
       "      <td>1</td>\n",
       "      <td>Winter</td>\n",
       "      <td>11611TR001</td>\n",
       "      <td>217</td>\n",
       "      <td>Positive</td>\n",
       "      <td>...</td>\n",
       "      <td>0.00</td>\n",
       "      <td>7.6</td>\n",
       "      <td>262.0</td>\n",
       "      <td>22.7</td>\n",
       "      <td>24.0</td>\n",
       "      <td>5.384</td>\n",
       "      <td>90.0</td>\n",
       "      <td>6.273</td>\n",
       "      <td>24.08973</td>\n",
       "      <td>90.10455</td>\n",
       "    </tr>\n",
       "    <tr>\n",
       "      <th>4</th>\n",
       "      <td>TR001</td>\n",
       "      <td>1</td>\n",
       "      <td>Rural household</td>\n",
       "      <td>High exposure</td>\n",
       "      <td>Poultry pens</td>\n",
       "      <td>1</td>\n",
       "      <td>Winter</td>\n",
       "      <td>11811TR001</td>\n",
       "      <td>22000000</td>\n",
       "      <td>Positive</td>\n",
       "      <td>...</td>\n",
       "      <td>101832.32</td>\n",
       "      <td>NaN</td>\n",
       "      <td>NaN</td>\n",
       "      <td>NaN</td>\n",
       "      <td>NaN</td>\n",
       "      <td>NaN</td>\n",
       "      <td>NaN</td>\n",
       "      <td>NaN</td>\n",
       "      <td>NaN</td>\n",
       "      <td>NaN</td>\n",
       "    </tr>\n",
       "  </tbody>\n",
       "</table>\n",
       "<p>5 rows × 25 columns</p>\n",
       "</div>"
      ],
      "text/plain": [
       "     PId  Village/Farm/Marketno        Studysite         Status  \\\n",
       "0  TR001                      1  Rural household  High exposure   \n",
       "1  TR001                      1  Rural household  High exposure   \n",
       "2  TR001                      1  Rural household  High exposure   \n",
       "3  TR001                      1  Rural household  High exposure   \n",
       "4  TR001                      1  Rural household  High exposure   \n",
       "\n",
       "               Sampletype  Sample1or2  Season    Uniqueid  TBXcount StatusTBX  \\\n",
       "0           Compound soil           1  Winter  11211TR001         0  Negative   \n",
       "1          Drinking water           1  Winter  11311TR001         0  Negative   \n",
       "2             Waste water           1  Winter  11411TR001    220000  Positive   \n",
       "3  Downstream river water           1  Winter  11611TR001       217  Positive   \n",
       "4            Poultry pens           1  Winter  11811TR001  22000000  Positive   \n",
       "\n",
       "   ...       NDM1   pH  Conductivity  Temp  GISND  GISNM  GISED  GISEM  \\\n",
       "0  ...       0.00  NaN           NaN   NaN    NaN    NaN    NaN    NaN   \n",
       "1  ...       0.00  7.4         173.0  25.4    NaN    NaN    NaN    NaN   \n",
       "2  ...  174999.38  7.7         202.0  22.7    NaN    NaN    NaN    NaN   \n",
       "3  ...       0.00  7.6         262.0  22.7   24.0  5.384   90.0  6.273   \n",
       "4  ...  101832.32  NaN           NaN   NaN    NaN    NaN    NaN    NaN   \n",
       "\n",
       "     GISlat   GISlong  \n",
       "0       NaN       NaN  \n",
       "1       NaN       NaN  \n",
       "2       NaN       NaN  \n",
       "3  24.08973  90.10455  \n",
       "4       NaN       NaN  \n",
       "\n",
       "[5 rows x 25 columns]"
      ]
     },
     "execution_count": 106,
     "metadata": {},
     "output_type": "execute_result"
    }
   ],
   "source": [
    "df = pd.read_csv(\"Ecolicounts.csv\")\n",
    "df.head()"
   ]
  },
  {
   "cell_type": "code",
   "execution_count": 5,
   "id": "fe35cae1-7962-4a76-8c9e-d63ee49bab01",
   "metadata": {},
   "outputs": [
    {
     "data": {
      "text/plain": [
       "Index(['PId', 'Village/Farm/Marketno', 'Studysite', 'Status', 'Sampletype',\n",
       "       'Sample1or2', 'Season', 'Uniqueid', 'TBXcount', 'StatusTBX',\n",
       "       'ESBLcount', 'StatusESBL', 'KPCcount', 'StatusK', 'CTXM', 'NDM1', 'pH',\n",
       "       'Conductivity', 'Temp', 'GISND', 'GISNM', 'GISED', 'GISEM', 'GISlat',\n",
       "       'GISlong'],\n",
       "      dtype='object')"
      ]
     },
     "execution_count": 5,
     "metadata": {},
     "output_type": "execute_result"
    }
   ],
   "source": [
    "df.keys()\n",
    "#variables to drop for nonwater samples: PId, Village/Farm/Marketno, Sample1or2, Uniqueid, TBX count, Status TBX, ESBL count, KPC count, pH, conductivity, temp, GIDND, GISNM, GISED, GISEM, GISlat, GISlong\n",
    "#variables to drop for water samples ('Downstream river water', 'Downstream pond water', 'Poultry drinking water', 'Waste water', 'Waste water-2': everything but pH, conductivtiy, temp\n"
   ]
  },
  {
   "cell_type": "code",
   "execution_count": 16,
   "id": "b07beb33-d7a5-4bbd-88e9-cc6ace1941a5",
   "metadata": {},
   "outputs": [
    {
     "data": {
      "text/plain": [
       "array([ 1,  2,  3,  4,  5,  6,  7,  8,  9, 10, 11, 12, 13, 14, 15, 16, 17,\n",
       "       18, 19, 20, 25, 26, 27, 28, 29, 30, 31, 32, 33, 34, 21, 22, 23, 24,\n",
       "       35, 36, 37, 38, 39, 40])"
      ]
     },
     "execution_count": 16,
     "metadata": {},
     "output_type": "execute_result"
    }
   ],
   "source": [
    "df['Village/Farm/Marketno'].unique()"
   ]
  },
  {
   "cell_type": "code",
   "execution_count": 18,
   "id": "e97040ef-b171-44c0-a9c8-222f52de47ba",
   "metadata": {},
   "outputs": [
    {
     "data": {
      "text/plain": [
       "array(['Rural household', 'Poultry farm', 'Live bird market'],\n",
       "      dtype=object)"
      ]
     },
     "execution_count": 18,
     "metadata": {},
     "output_type": "execute_result"
    }
   ],
   "source": [
    "df['Studysite'].unique()"
   ]
  },
  {
   "cell_type": "code",
   "execution_count": 20,
   "id": "c01643c5-ca58-4898-843c-eea337467e9a",
   "metadata": {},
   "outputs": [
    {
     "data": {
      "text/plain": [
       "array(['High exposure', 'Low exposure'], dtype=object)"
      ]
     },
     "execution_count": 20,
     "metadata": {},
     "output_type": "execute_result"
    }
   ],
   "source": [
    "df['Status'].unique()"
   ]
  },
  {
   "cell_type": "code",
   "execution_count": 22,
   "id": "b7512298-ca48-4eb7-b697-e49332b58d9e",
   "metadata": {},
   "outputs": [
    {
     "data": {
      "text/plain": [
       "array(['Compound soil', 'Drinking water', 'Waste water',\n",
       "       'Downstream river water', 'Poultry pens', 'Poultry caecal sample',\n",
       "       'Human faeces', 'Poultry caecal sample-2', 'Downstream pond water',\n",
       "       'Animal manure', 'Human faeces-2', 'Poultry drinking water',\n",
       "       'Human faeces-3', 'Pond sediment', 'River sediment',\n",
       "       'Poultry Poultry caecal sample-2', 'Poultry Poultry caecal sample',\n",
       "       'Solid waste', 'Waste water-2', 'Solid waste-2', 'Poultry pens-2'],\n",
       "      dtype=object)"
      ]
     },
     "execution_count": 22,
     "metadata": {},
     "output_type": "execute_result"
    }
   ],
   "source": [
    "df['Sampletype'].unique()"
   ]
  },
  {
   "cell_type": "code",
   "execution_count": 160,
   "id": "af241ba0-62bb-46f4-87cd-38f5345e889d",
   "metadata": {},
   "outputs": [
    {
     "data": {
      "text/plain": [
       "PId                         0\n",
       "Village/Farm/Marketno       0\n",
       "Studysite                   0\n",
       "Status                      0\n",
       "Sampletype                  0\n",
       "Sample1or2                  0\n",
       "Season                      0\n",
       "Uniqueid                    0\n",
       "TBXcount                    0\n",
       "StatusTBX                   0\n",
       "ESBLcount                   0\n",
       "StatusESBL                  0\n",
       "KPCcount                    0\n",
       "StatusK                     0\n",
       "CTXM                        0\n",
       "NDM1                        0\n",
       "pH                        819\n",
       "Conductivity              825\n",
       "Temp                      846\n",
       "GISND                    1168\n",
       "GISNM                    1169\n",
       "GISED                    1169\n",
       "GISEM                    1169\n",
       "GISlat                   1169\n",
       "GISlong                  1169\n",
       "dtype: int64"
      ]
     },
     "execution_count": 160,
     "metadata": {},
     "output_type": "execute_result"
    }
   ],
   "source": [
    "df.isna().sum()"
   ]
  },
  {
   "cell_type": "code",
   "execution_count": 108,
   "id": "9a1edc12-eaac-42a1-a47e-3f7fa3fe76d7",
   "metadata": {},
   "outputs": [
    {
     "data": {
      "text/html": [
       "<div>\n",
       "<style scoped>\n",
       "    .dataframe tbody tr th:only-of-type {\n",
       "        vertical-align: middle;\n",
       "    }\n",
       "\n",
       "    .dataframe tbody tr th {\n",
       "        vertical-align: top;\n",
       "    }\n",
       "\n",
       "    .dataframe thead th {\n",
       "        text-align: right;\n",
       "    }\n",
       "</style>\n",
       "<table border=\"1\" class=\"dataframe\">\n",
       "  <thead>\n",
       "    <tr style=\"text-align: right;\">\n",
       "      <th></th>\n",
       "      <th>PId</th>\n",
       "      <th>Village/Farm/Marketno</th>\n",
       "      <th>Studysite</th>\n",
       "      <th>Status</th>\n",
       "      <th>Sampletype</th>\n",
       "      <th>Sample1or2</th>\n",
       "      <th>Season</th>\n",
       "      <th>Uniqueid</th>\n",
       "      <th>TBXcount</th>\n",
       "      <th>StatusTBX</th>\n",
       "      <th>...</th>\n",
       "      <th>NDM1</th>\n",
       "      <th>pH</th>\n",
       "      <th>Conductivity</th>\n",
       "      <th>Temp</th>\n",
       "      <th>GISND</th>\n",
       "      <th>GISNM</th>\n",
       "      <th>GISED</th>\n",
       "      <th>GISEM</th>\n",
       "      <th>GISlat</th>\n",
       "      <th>GISlong</th>\n",
       "    </tr>\n",
       "  </thead>\n",
       "  <tbody>\n",
       "    <tr>\n",
       "      <th>2</th>\n",
       "      <td>TR001</td>\n",
       "      <td>1</td>\n",
       "      <td>Rural household</td>\n",
       "      <td>High exposure</td>\n",
       "      <td>Waste water</td>\n",
       "      <td>1</td>\n",
       "      <td>Winter</td>\n",
       "      <td>11411TR001</td>\n",
       "      <td>220000</td>\n",
       "      <td>Positive</td>\n",
       "      <td>...</td>\n",
       "      <td>174999.38</td>\n",
       "      <td>7.7</td>\n",
       "      <td>202.0</td>\n",
       "      <td>22.7</td>\n",
       "      <td>NaN</td>\n",
       "      <td>NaN</td>\n",
       "      <td>NaN</td>\n",
       "      <td>NaN</td>\n",
       "      <td>NaN</td>\n",
       "      <td>NaN</td>\n",
       "    </tr>\n",
       "    <tr>\n",
       "      <th>3</th>\n",
       "      <td>TR001</td>\n",
       "      <td>1</td>\n",
       "      <td>Rural household</td>\n",
       "      <td>High exposure</td>\n",
       "      <td>Downstream river water</td>\n",
       "      <td>1</td>\n",
       "      <td>Winter</td>\n",
       "      <td>11611TR001</td>\n",
       "      <td>217</td>\n",
       "      <td>Positive</td>\n",
       "      <td>...</td>\n",
       "      <td>0.00</td>\n",
       "      <td>7.6</td>\n",
       "      <td>262.0</td>\n",
       "      <td>22.7</td>\n",
       "      <td>24.0</td>\n",
       "      <td>5.384</td>\n",
       "      <td>90.0</td>\n",
       "      <td>6.273</td>\n",
       "      <td>24.08973</td>\n",
       "      <td>90.10455</td>\n",
       "    </tr>\n",
       "    <tr>\n",
       "      <th>10</th>\n",
       "      <td>TR002</td>\n",
       "      <td>2</td>\n",
       "      <td>Rural household</td>\n",
       "      <td>High exposure</td>\n",
       "      <td>Waste water</td>\n",
       "      <td>1</td>\n",
       "      <td>Winter</td>\n",
       "      <td>11411TR002</td>\n",
       "      <td>1400000</td>\n",
       "      <td>Positive</td>\n",
       "      <td>...</td>\n",
       "      <td>0.00</td>\n",
       "      <td>9.2</td>\n",
       "      <td>1154.0</td>\n",
       "      <td>24.5</td>\n",
       "      <td>NaN</td>\n",
       "      <td>NaN</td>\n",
       "      <td>NaN</td>\n",
       "      <td>NaN</td>\n",
       "      <td>NaN</td>\n",
       "      <td>NaN</td>\n",
       "    </tr>\n",
       "    <tr>\n",
       "      <th>11</th>\n",
       "      <td>TR002</td>\n",
       "      <td>2</td>\n",
       "      <td>Rural household</td>\n",
       "      <td>High exposure</td>\n",
       "      <td>Downstream pond water</td>\n",
       "      <td>1</td>\n",
       "      <td>Winter</td>\n",
       "      <td>11511TR002</td>\n",
       "      <td>98</td>\n",
       "      <td>Positive</td>\n",
       "      <td>...</td>\n",
       "      <td>0.00</td>\n",
       "      <td>8.7</td>\n",
       "      <td>111.0</td>\n",
       "      <td>23.0</td>\n",
       "      <td>NaN</td>\n",
       "      <td>NaN</td>\n",
       "      <td>NaN</td>\n",
       "      <td>NaN</td>\n",
       "      <td>NaN</td>\n",
       "      <td>NaN</td>\n",
       "    </tr>\n",
       "    <tr>\n",
       "      <th>12</th>\n",
       "      <td>TR002</td>\n",
       "      <td>2</td>\n",
       "      <td>Rural household</td>\n",
       "      <td>High exposure</td>\n",
       "      <td>Downstream river water</td>\n",
       "      <td>1</td>\n",
       "      <td>Winter</td>\n",
       "      <td>11611TR002</td>\n",
       "      <td>5000</td>\n",
       "      <td>Positive</td>\n",
       "      <td>...</td>\n",
       "      <td>0.00</td>\n",
       "      <td>7.9</td>\n",
       "      <td>247.0</td>\n",
       "      <td>24.0</td>\n",
       "      <td>24.0</td>\n",
       "      <td>5.745</td>\n",
       "      <td>90.0</td>\n",
       "      <td>5.907</td>\n",
       "      <td>24.09575</td>\n",
       "      <td>90.09845</td>\n",
       "    </tr>\n",
       "  </tbody>\n",
       "</table>\n",
       "<p>5 rows × 25 columns</p>\n",
       "</div>"
      ],
      "text/plain": [
       "      PId  Village/Farm/Marketno        Studysite         Status  \\\n",
       "2   TR001                      1  Rural household  High exposure   \n",
       "3   TR001                      1  Rural household  High exposure   \n",
       "10  TR002                      2  Rural household  High exposure   \n",
       "11  TR002                      2  Rural household  High exposure   \n",
       "12  TR002                      2  Rural household  High exposure   \n",
       "\n",
       "                Sampletype  Sample1or2  Season    Uniqueid  TBXcount  \\\n",
       "2              Waste water           1  Winter  11411TR001    220000   \n",
       "3   Downstream river water           1  Winter  11611TR001       217   \n",
       "10             Waste water           1  Winter  11411TR002   1400000   \n",
       "11   Downstream pond water           1  Winter  11511TR002        98   \n",
       "12  Downstream river water           1  Winter  11611TR002      5000   \n",
       "\n",
       "   StatusTBX  ...       NDM1   pH  Conductivity  Temp  GISND  GISNM  GISED  \\\n",
       "2   Positive  ...  174999.38  7.7         202.0  22.7    NaN    NaN    NaN   \n",
       "3   Positive  ...       0.00  7.6         262.0  22.7   24.0  5.384   90.0   \n",
       "10  Positive  ...       0.00  9.2        1154.0  24.5    NaN    NaN    NaN   \n",
       "11  Positive  ...       0.00  8.7         111.0  23.0    NaN    NaN    NaN   \n",
       "12  Positive  ...       0.00  7.9         247.0  24.0   24.0  5.745   90.0   \n",
       "\n",
       "    GISEM    GISlat   GISlong  \n",
       "2     NaN       NaN       NaN  \n",
       "3   6.273  24.08973  90.10455  \n",
       "10    NaN       NaN       NaN  \n",
       "11    NaN       NaN       NaN  \n",
       "12  5.907  24.09575  90.09845  \n",
       "\n",
       "[5 rows x 25 columns]"
      ]
     },
     "execution_count": 108,
     "metadata": {},
     "output_type": "execute_result"
    }
   ],
   "source": [
    "#subset water samples to deal with NAs\n",
    "\n",
    "water_data = df[df['Sampletype'].isin(['Downstream river water',\n",
    "                                       'Downstream pond water', \n",
    "                                       'Poultry drinking water', \n",
    "                                       'Waste water', \n",
    "                                       'Waste water-2'])].copy()\n",
    "\n",
    "water_data.head()\n"
   ]
  },
  {
   "cell_type": "code",
   "execution_count": 100,
   "id": "11ce7b0c-86c7-4b12-a8c1-281f915d312c",
   "metadata": {},
   "outputs": [
    {
     "data": {
      "text/plain": [
       "Index(['PId', 'Village/Farm/Marketno', 'Studysite', 'Status', 'Sampletype',\n",
       "       'Sample1or2', 'Season', 'Uniqueid', 'TBXcount', 'StatusTBX',\n",
       "       'ESBLcount', 'StatusESBL', 'KPCcount', 'StatusK', 'CTXM', 'NDM1', 'pH',\n",
       "       'Conductivity', 'Temp', 'GISND', 'GISNM', 'GISED', 'GISEM', 'GISlat',\n",
       "       'GISlong'],\n",
       "      dtype='object')"
      ]
     },
     "execution_count": 100,
     "metadata": {},
     "output_type": "execute_result"
    }
   ],
   "source": [
    "water_data.columns"
   ]
  },
  {
   "cell_type": "code",
   "execution_count": 112,
   "id": "22effed1-6c21-4efe-a105-2fd76989cb26",
   "metadata": {},
   "outputs": [
    {
     "data": {
      "text/plain": [
       "Index(['Studysite', 'Status', 'Sampletype', 'Season', 'StatusESBL', 'StatusK',\n",
       "       'CTXM', 'NDM1', 'pH', 'Conductivity', 'Temp'],\n",
       "      dtype='object')"
      ]
     },
     "execution_count": 112,
     "metadata": {},
     "output_type": "execute_result"
    }
   ],
   "source": [
    "#drop unnecessary columns\n",
    "water_data = water_data.drop(['PId', 'Village/Farm/Marketno',\n",
    "       'Sample1or2','Uniqueid', 'TBXcount', 'StatusTBX',\n",
    "       'ESBLcount','KPCcount','GISND', 'GISNM', 'GISED', 'GISEM', 'GISlat',\n",
    "       'GISlong'], axis = 1)\n",
    "water_data.columns"
   ]
  },
  {
   "cell_type": "code",
   "execution_count": 122,
   "id": "28d854ad-c39b-4052-9d7a-b8f9fc9416f3",
   "metadata": {},
   "outputs": [
    {
     "data": {
      "text/plain": [
       "Studysite        0\n",
       "Status           0\n",
       "Sampletype       0\n",
       "Season           0\n",
       "StatusESBL       0\n",
       "StatusK          0\n",
       "CTXM             0\n",
       "NDM1             0\n",
       "pH               8\n",
       "Conductivity    13\n",
       "Temp            33\n",
       "dtype: int64"
      ]
     },
     "execution_count": 122,
     "metadata": {},
     "output_type": "execute_result"
    }
   ],
   "source": [
    "#look at where the remaining NAs are\n",
    "water_data.isna().sum()"
   ]
  },
  {
   "cell_type": "code",
   "execution_count": 124,
   "id": "5b16328b-59d1-4b2a-b201-f335d2de8565",
   "metadata": {},
   "outputs": [],
   "source": [
    "#drop for now since theres only ~50\n",
    "water_data = water_data.dropna()"
   ]
  },
  {
   "cell_type": "code",
   "execution_count": 128,
   "id": "d21f23c4-c05a-4bbd-82f4-8d86c5327ad3",
   "metadata": {},
   "outputs": [
    {
     "data": {
      "text/html": [
       "<div>\n",
       "<style scoped>\n",
       "    .dataframe tbody tr th:only-of-type {\n",
       "        vertical-align: middle;\n",
       "    }\n",
       "\n",
       "    .dataframe tbody tr th {\n",
       "        vertical-align: top;\n",
       "    }\n",
       "\n",
       "    .dataframe thead th {\n",
       "        text-align: right;\n",
       "    }\n",
       "</style>\n",
       "<table border=\"1\" class=\"dataframe\">\n",
       "  <thead>\n",
       "    <tr style=\"text-align: right;\">\n",
       "      <th></th>\n",
       "      <th>CTXM</th>\n",
       "      <th>NDM1</th>\n",
       "      <th>pH</th>\n",
       "      <th>Conductivity</th>\n",
       "      <th>Temp</th>\n",
       "      <th>Studysite_Live bird market</th>\n",
       "      <th>Studysite_Poultry farm</th>\n",
       "      <th>Studysite_Rural household</th>\n",
       "      <th>Status_High exposure</th>\n",
       "      <th>Status_Low exposure</th>\n",
       "      <th>...</th>\n",
       "      <th>Sampletype_Downstream river water</th>\n",
       "      <th>Sampletype_Poultry drinking water</th>\n",
       "      <th>Sampletype_Waste water</th>\n",
       "      <th>Sampletype_Waste water-2</th>\n",
       "      <th>Season_Summer</th>\n",
       "      <th>Season_Winter</th>\n",
       "      <th>StatusESBL_Negative</th>\n",
       "      <th>StatusESBL_Positive</th>\n",
       "      <th>StatusK_Negative</th>\n",
       "      <th>StatusK_Positive</th>\n",
       "    </tr>\n",
       "  </thead>\n",
       "  <tbody>\n",
       "    <tr>\n",
       "      <th>2</th>\n",
       "      <td>0.00</td>\n",
       "      <td>174999.38</td>\n",
       "      <td>7.7</td>\n",
       "      <td>202.0</td>\n",
       "      <td>22.7</td>\n",
       "      <td>0</td>\n",
       "      <td>0</td>\n",
       "      <td>1</td>\n",
       "      <td>1</td>\n",
       "      <td>0</td>\n",
       "      <td>...</td>\n",
       "      <td>0</td>\n",
       "      <td>0</td>\n",
       "      <td>1</td>\n",
       "      <td>0</td>\n",
       "      <td>0</td>\n",
       "      <td>1</td>\n",
       "      <td>0</td>\n",
       "      <td>1</td>\n",
       "      <td>1</td>\n",
       "      <td>0</td>\n",
       "    </tr>\n",
       "    <tr>\n",
       "      <th>3</th>\n",
       "      <td>0.00</td>\n",
       "      <td>0.00</td>\n",
       "      <td>7.6</td>\n",
       "      <td>262.0</td>\n",
       "      <td>22.7</td>\n",
       "      <td>0</td>\n",
       "      <td>0</td>\n",
       "      <td>1</td>\n",
       "      <td>1</td>\n",
       "      <td>0</td>\n",
       "      <td>...</td>\n",
       "      <td>1</td>\n",
       "      <td>0</td>\n",
       "      <td>0</td>\n",
       "      <td>0</td>\n",
       "      <td>0</td>\n",
       "      <td>1</td>\n",
       "      <td>0</td>\n",
       "      <td>1</td>\n",
       "      <td>1</td>\n",
       "      <td>0</td>\n",
       "    </tr>\n",
       "    <tr>\n",
       "      <th>10</th>\n",
       "      <td>211928.52</td>\n",
       "      <td>0.00</td>\n",
       "      <td>9.2</td>\n",
       "      <td>1154.0</td>\n",
       "      <td>24.5</td>\n",
       "      <td>0</td>\n",
       "      <td>0</td>\n",
       "      <td>1</td>\n",
       "      <td>1</td>\n",
       "      <td>0</td>\n",
       "      <td>...</td>\n",
       "      <td>0</td>\n",
       "      <td>0</td>\n",
       "      <td>1</td>\n",
       "      <td>0</td>\n",
       "      <td>0</td>\n",
       "      <td>1</td>\n",
       "      <td>0</td>\n",
       "      <td>1</td>\n",
       "      <td>1</td>\n",
       "      <td>0</td>\n",
       "    </tr>\n",
       "    <tr>\n",
       "      <th>11</th>\n",
       "      <td>0.00</td>\n",
       "      <td>0.00</td>\n",
       "      <td>8.7</td>\n",
       "      <td>111.0</td>\n",
       "      <td>23.0</td>\n",
       "      <td>0</td>\n",
       "      <td>0</td>\n",
       "      <td>1</td>\n",
       "      <td>1</td>\n",
       "      <td>0</td>\n",
       "      <td>...</td>\n",
       "      <td>0</td>\n",
       "      <td>0</td>\n",
       "      <td>0</td>\n",
       "      <td>0</td>\n",
       "      <td>0</td>\n",
       "      <td>1</td>\n",
       "      <td>0</td>\n",
       "      <td>1</td>\n",
       "      <td>1</td>\n",
       "      <td>0</td>\n",
       "    </tr>\n",
       "    <tr>\n",
       "      <th>12</th>\n",
       "      <td>0.00</td>\n",
       "      <td>0.00</td>\n",
       "      <td>7.9</td>\n",
       "      <td>247.0</td>\n",
       "      <td>24.0</td>\n",
       "      <td>0</td>\n",
       "      <td>0</td>\n",
       "      <td>1</td>\n",
       "      <td>1</td>\n",
       "      <td>0</td>\n",
       "      <td>...</td>\n",
       "      <td>1</td>\n",
       "      <td>0</td>\n",
       "      <td>0</td>\n",
       "      <td>0</td>\n",
       "      <td>0</td>\n",
       "      <td>1</td>\n",
       "      <td>0</td>\n",
       "      <td>1</td>\n",
       "      <td>1</td>\n",
       "      <td>0</td>\n",
       "    </tr>\n",
       "  </tbody>\n",
       "</table>\n",
       "<p>5 rows × 21 columns</p>\n",
       "</div>"
      ],
      "text/plain": [
       "         CTXM       NDM1   pH  Conductivity  Temp  Studysite_Live bird market  \\\n",
       "2        0.00  174999.38  7.7         202.0  22.7                           0   \n",
       "3        0.00       0.00  7.6         262.0  22.7                           0   \n",
       "10  211928.52       0.00  9.2        1154.0  24.5                           0   \n",
       "11       0.00       0.00  8.7         111.0  23.0                           0   \n",
       "12       0.00       0.00  7.9         247.0  24.0                           0   \n",
       "\n",
       "    Studysite_Poultry farm  Studysite_Rural household  Status_High exposure  \\\n",
       "2                        0                          1                     1   \n",
       "3                        0                          1                     1   \n",
       "10                       0                          1                     1   \n",
       "11                       0                          1                     1   \n",
       "12                       0                          1                     1   \n",
       "\n",
       "    Status_Low exposure  ...  Sampletype_Downstream river water  \\\n",
       "2                     0  ...                                  0   \n",
       "3                     0  ...                                  1   \n",
       "10                    0  ...                                  0   \n",
       "11                    0  ...                                  0   \n",
       "12                    0  ...                                  1   \n",
       "\n",
       "    Sampletype_Poultry drinking water  Sampletype_Waste water  \\\n",
       "2                                   0                       1   \n",
       "3                                   0                       0   \n",
       "10                                  0                       1   \n",
       "11                                  0                       0   \n",
       "12                                  0                       0   \n",
       "\n",
       "    Sampletype_Waste water-2  Season_Summer  Season_Winter  \\\n",
       "2                          0              0              1   \n",
       "3                          0              0              1   \n",
       "10                         0              0              1   \n",
       "11                         0              0              1   \n",
       "12                         0              0              1   \n",
       "\n",
       "    StatusESBL_Negative  StatusESBL_Positive  StatusK_Negative  \\\n",
       "2                     0                    1                 1   \n",
       "3                     0                    1                 1   \n",
       "10                    0                    1                 1   \n",
       "11                    0                    1                 1   \n",
       "12                    0                    1                 1   \n",
       "\n",
       "    StatusK_Positive  \n",
       "2                  0  \n",
       "3                  0  \n",
       "10                 0  \n",
       "11                 0  \n",
       "12                 0  \n",
       "\n",
       "[5 rows x 21 columns]"
      ]
     },
     "execution_count": 128,
     "metadata": {},
     "output_type": "execute_result"
    }
   ],
   "source": [
    "#get dummies for categorical variables\n",
    "water_data = pd.get_dummies(water_data, columns=['Studysite', 'Status', 'Sampletype', 'Season', 'StatusESBL', 'StatusK', ])\n",
    "\n",
    "water_data.head()"
   ]
  },
  {
   "cell_type": "code",
   "execution_count": 130,
   "id": "202db866-6176-4256-ac38-e471ba6967dd",
   "metadata": {},
   "outputs": [
    {
     "data": {
      "text/plain": [
       "Index(['CTXM', 'NDM1', 'pH', 'Conductivity', 'Temp',\n",
       "       'Studysite_Live bird market', 'Studysite_Poultry farm',\n",
       "       'Studysite_Rural household', 'Status_High exposure',\n",
       "       'Status_Low exposure', 'Sampletype_Downstream pond water',\n",
       "       'Sampletype_Downstream river water',\n",
       "       'Sampletype_Poultry drinking water', 'Sampletype_Waste water',\n",
       "       'Sampletype_Waste water-2', 'Season_Summer', 'Season_Winter',\n",
       "       'StatusESBL_Negative', 'StatusESBL_Positive', 'StatusK_Negative',\n",
       "       'StatusK_Positive'],\n",
       "      dtype='object')"
      ]
     },
     "execution_count": 130,
     "metadata": {},
     "output_type": "execute_result"
    }
   ],
   "source": [
    "water_data.columns"
   ]
  },
  {
   "cell_type": "code",
   "execution_count": 132,
   "id": "cf28838b-e9ff-4019-938e-787489b971fc",
   "metadata": {},
   "outputs": [
    {
     "data": {
      "text/plain": [
       "Index(['CTXM', 'NDM1', 'pH', 'Conductivity', 'Temp',\n",
       "       'Studysite_Live bird market', 'Studysite_Poultry farm',\n",
       "       'Studysite_Rural household', 'Status_High exposure',\n",
       "       'Sampletype_Downstream pond water', 'Sampletype_Downstream river water',\n",
       "       'Sampletype_Poultry drinking water', 'Sampletype_Waste water',\n",
       "       'Sampletype_Waste water-2', 'Season_Summer', 'StatusESBL_Positive',\n",
       "       'StatusK_Positive'],\n",
       "      dtype='object')"
      ]
     },
     "execution_count": 132,
     "metadata": {},
     "output_type": "execute_result"
    }
   ],
   "source": [
    "#drop out redundant dummy columns\n",
    "water_data = water_data.drop(['Status_Low exposure', 'Season_Winter', 'StatusESBL_Negative', 'StatusK_Negative'], axis = 1)\n",
    "water_data.columns"
   ]
  },
  {
   "cell_type": "code",
   "execution_count": 136,
   "id": "b261e63b-93e8-4240-b4b1-407b94988f50",
   "metadata": {},
   "outputs": [
    {
     "data": {
      "text/html": [
       "<style>#sk-container-id-1 {color: black;background-color: white;}#sk-container-id-1 pre{padding: 0;}#sk-container-id-1 div.sk-toggleable {background-color: white;}#sk-container-id-1 label.sk-toggleable__label {cursor: pointer;display: block;width: 100%;margin-bottom: 0;padding: 0.3em;box-sizing: border-box;text-align: center;}#sk-container-id-1 label.sk-toggleable__label-arrow:before {content: \"▸\";float: left;margin-right: 0.25em;color: #696969;}#sk-container-id-1 label.sk-toggleable__label-arrow:hover:before {color: black;}#sk-container-id-1 div.sk-estimator:hover label.sk-toggleable__label-arrow:before {color: black;}#sk-container-id-1 div.sk-toggleable__content {max-height: 0;max-width: 0;overflow: hidden;text-align: left;background-color: #f0f8ff;}#sk-container-id-1 div.sk-toggleable__content pre {margin: 0.2em;color: black;border-radius: 0.25em;background-color: #f0f8ff;}#sk-container-id-1 input.sk-toggleable__control:checked~div.sk-toggleable__content {max-height: 200px;max-width: 100%;overflow: auto;}#sk-container-id-1 input.sk-toggleable__control:checked~label.sk-toggleable__label-arrow:before {content: \"▾\";}#sk-container-id-1 div.sk-estimator input.sk-toggleable__control:checked~label.sk-toggleable__label {background-color: #d4ebff;}#sk-container-id-1 div.sk-label input.sk-toggleable__control:checked~label.sk-toggleable__label {background-color: #d4ebff;}#sk-container-id-1 input.sk-hidden--visually {border: 0;clip: rect(1px 1px 1px 1px);clip: rect(1px, 1px, 1px, 1px);height: 1px;margin: -1px;overflow: hidden;padding: 0;position: absolute;width: 1px;}#sk-container-id-1 div.sk-estimator {font-family: monospace;background-color: #f0f8ff;border: 1px dotted black;border-radius: 0.25em;box-sizing: border-box;margin-bottom: 0.5em;}#sk-container-id-1 div.sk-estimator:hover {background-color: #d4ebff;}#sk-container-id-1 div.sk-parallel-item::after {content: \"\";width: 100%;border-bottom: 1px solid gray;flex-grow: 1;}#sk-container-id-1 div.sk-label:hover label.sk-toggleable__label {background-color: #d4ebff;}#sk-container-id-1 div.sk-serial::before {content: \"\";position: absolute;border-left: 1px solid gray;box-sizing: border-box;top: 0;bottom: 0;left: 50%;z-index: 0;}#sk-container-id-1 div.sk-serial {display: flex;flex-direction: column;align-items: center;background-color: white;padding-right: 0.2em;padding-left: 0.2em;position: relative;}#sk-container-id-1 div.sk-item {position: relative;z-index: 1;}#sk-container-id-1 div.sk-parallel {display: flex;align-items: stretch;justify-content: center;background-color: white;position: relative;}#sk-container-id-1 div.sk-item::before, #sk-container-id-1 div.sk-parallel-item::before {content: \"\";position: absolute;border-left: 1px solid gray;box-sizing: border-box;top: 0;bottom: 0;left: 50%;z-index: -1;}#sk-container-id-1 div.sk-parallel-item {display: flex;flex-direction: column;z-index: 1;position: relative;background-color: white;}#sk-container-id-1 div.sk-parallel-item:first-child::after {align-self: flex-end;width: 50%;}#sk-container-id-1 div.sk-parallel-item:last-child::after {align-self: flex-start;width: 50%;}#sk-container-id-1 div.sk-parallel-item:only-child::after {width: 0;}#sk-container-id-1 div.sk-dashed-wrapped {border: 1px dashed gray;margin: 0 0.4em 0.5em 0.4em;box-sizing: border-box;padding-bottom: 0.4em;background-color: white;}#sk-container-id-1 div.sk-label label {font-family: monospace;font-weight: bold;display: inline-block;line-height: 1.2em;}#sk-container-id-1 div.sk-label-container {text-align: center;}#sk-container-id-1 div.sk-container {/* jupyter's `normalize.less` sets `[hidden] { display: none; }` but bootstrap.min.css set `[hidden] { display: none !important; }` so we also need the `!important` here to be able to override the default hidden behavior on the sphinx rendered scikit-learn.org. See: https://github.com/scikit-learn/scikit-learn/issues/21755 */display: inline-block !important;position: relative;}#sk-container-id-1 div.sk-text-repr-fallback {display: none;}</style><div id=\"sk-container-id-1\" class=\"sk-top-container\"><div class=\"sk-text-repr-fallback\"><pre>RandomForestClassifier(n_estimators=5, random_state=0)</pre><b>In a Jupyter environment, please rerun this cell to show the HTML representation or trust the notebook. <br />On GitHub, the HTML representation is unable to render, please try loading this page with nbviewer.org.</b></div><div class=\"sk-container\" hidden><div class=\"sk-item\"><div class=\"sk-estimator sk-toggleable\"><input class=\"sk-toggleable__control sk-hidden--visually\" id=\"sk-estimator-id-1\" type=\"checkbox\" checked><label for=\"sk-estimator-id-1\" class=\"sk-toggleable__label sk-toggleable__label-arrow\">RandomForestClassifier</label><div class=\"sk-toggleable__content\"><pre>RandomForestClassifier(n_estimators=5, random_state=0)</pre></div></div></div></div></div>"
      ],
      "text/plain": [
       "RandomForestClassifier(n_estimators=5, random_state=0)"
      ]
     },
     "execution_count": 136,
     "metadata": {},
     "output_type": "execute_result"
    }
   ],
   "source": [
    "#split data 80/20\n",
    "X_train, X_test, y_train, y_test = train_test_split(water_data.drop('StatusESBL_Positive', axis = 1), water_data['StatusESBL_Positive'],\n",
    "                                                    random_state=0)\n",
    "\n",
    "#fit random forest classifier\n",
    "forest = RandomForestClassifier(n_estimators=5, random_state=0)\n",
    "forest.fit(X_train, y_train)"
   ]
  },
  {
   "cell_type": "code",
   "execution_count": 138,
   "id": "f65fe58e-faf8-48e0-a85d-f193515f04f2",
   "metadata": {},
   "outputs": [
    {
     "name": "stdout",
     "output_type": "stream",
     "text": [
      "Accuracy on training set: 0.978\n",
      "Accuracy on test set: 0.747\n"
     ]
    }
   ],
   "source": [
    "#get accuracy\n",
    "print(\"Accuracy on training set: {:.3f}\".format(forest.score(X_train, y_train)))\n",
    "print(\"Accuracy on test set: {:.3f}\".format(forest.score(X_test, y_test)))"
   ]
  },
  {
   "cell_type": "code",
   "execution_count": 144,
   "id": "18c05863-5418-4222-86bc-1dbc5eb4d810",
   "metadata": {},
   "outputs": [
    {
     "data": {
      "image/png": "[encoded data removed]",
      "text/plain": [
       "<Figure size 1000x600 with 1 Axes>"
      ]
     },
     "metadata": {},
     "output_type": "display_data"
    }
   ],
   "source": [
    "#plot feature importance graph\n",
    "importances = forest.feature_importances_\n",
    "\n",
    "feature_names = water_data.columns  \n",
    "\n",
    "indices = np.argsort(importances)[::-1]\n",
    "\n",
    "plt.figure(figsize=(10, 6))\n",
    "plt.title('Feature Importances')\n",
    "plt.barh(range(len(importances)), importances[indices], align='center')\n",
    "plt.yticks(range(len(importances)), [feature_names[i] for i in indices])\n",
    "plt.xlabel('Importance')\n",
    "plt.gca().invert_yaxis()\n",
    "plt.show()\n"
   ]
  },
  {
   "cell_type": "code",
   "execution_count": 172,
   "id": "9d0e8ce0-1997-4a9f-871a-bd9e751b480b",
   "metadata": {},
   "outputs": [
    {
     "name": "stdout",
     "output_type": "stream",
     "text": [
      "Grid-Search with accuracy\n",
      "Best parameters: {'max_depth': 5, 'n_estimators': 100}\n",
      "Best cross-validation score (accuracy)): 0.784\n",
      "Test set accuracy: 0.791\n"
     ]
    }
   ],
   "source": [
    "#do a grid search iterating over 5 values for n_estimators and max depth\n",
    "\n",
    "#initialize parameter grid\n",
    "param_grid = {\n",
    "    'n_estimators': [100, 200, 300, 400, 500],\n",
    "    'max_depth': [None, 5, 10, 20, 30]\n",
    "}\n",
    "\n",
    "grid_search = GridSearchCV(RandomForestClassifier(), param_grid, cv=5, scoring='accuracy')\n",
    "grid_search.fit(X_train, y_train)\n",
    "\n",
    "#get best parameters and accuracy scores\n",
    "print(\"Grid-Search with accuracy\")\n",
    "print(\"Best parameters:\", grid_search.best_params_)\n",
    "print(\"Best cross-validation score (accuracy)): {:.3f}\".format(grid_search.best_score_))\n",
    "print(\"Test set accuracy: {:.3f}\".format(grid_search.score(X_test, y_test)))\n"
   ]
  },
  {
   "cell_type": "code",
   "execution_count": 173,
   "id": "94b4c016-d792-4b8d-b1b0-fceb355a4e5e",
   "metadata": {},
   "outputs": [
    {
     "data": {
      "image/png": "[encoded data removed]",
      "text/plain": [
       "<Figure size 640x480 with 2 Axes>"
      ]
     },
     "metadata": {},
     "output_type": "display_data"
    }
   ],
   "source": [
    "#make a heatmap of the grid search results\n",
    "results = pd.DataFrame(grid_search.cv_results_)\n",
    "scores = np.array(results['mean_test_score']).reshape(5, 5)\n",
    "sns.heatmap(scores, annot=True, xticklabels = param_grid['n_estimators'], yticklabels = param_grid['max_depth'])\n",
    "plt.show()"
   ]
  }
 ],
 "metadata": {
  "kernelspec": {
   "display_name": "Python [conda env:base] *",
   "language": "python",
   "name": "conda-base-py"
  },
  "language_info": {
   "codemirror_mode": {
    "name": "ipython",
    "version": 3
   },
   "file_extension": ".py",
   "mimetype": "text/x-python",
   "name": "python",
   "nbconvert_exporter": "python",
   "pygments_lexer": "ipython3",
   "version": "3.10.14"
  }
 },
 "nbformat": 4,
 "nbformat_minor": 5
}
